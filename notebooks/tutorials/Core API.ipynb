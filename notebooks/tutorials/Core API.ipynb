{
 "cells": [
  {
   "cell_type": "markdown",
   "metadata": {
    "collapsed": true
   },
   "source": [
    "# Frater Core API\n",
    "> The `frater` core API contains data structures and functions acting on them for common data structures that used for a wide variety of computer vision tasks."
   ]
  },
  {
   "cell_type": "markdown",
   "metadata": {},
   "source": [
    "## Temporal Range\n",
    "`TemporalRange` is a data class that contains the start and end frame index for higher level classes\n",
    "\n",
    "To start, we'll import and instantiate a `TemporalRange`:"
   ]
  },
  {
   "cell_type": "code",
   "execution_count": 2,
   "metadata": {},
   "outputs": [],
   "source": [
    "from frater.core import TemporalRange\n",
    "\n",
    "temporal_range = TemporalRange(10, 20)"
   ]
  },
  {
   "cell_type": "markdown",
   "metadata": {},
   "source": [
    "### Summary\n",
    "Next, we'll show a summary of the temporal range:"
   ]
  },
  {
   "cell_type": "code",
   "execution_count": 7,
   "metadata": {},
   "outputs": [
    {
     "name": "stdout",
     "output_type": "stream",
     "text": [
      "start: 10, end: 20\n",
      "\n"
     ]
    }
   ],
   "source": [
    "print(temporal_range.summary())"
   ]
  },
  {
   "cell_type": "markdown",
   "metadata": {},
   "source": [
    "### Index is in Range\n",
    "Next, we'll check if some indices are within temporal range"
   ]
  },
  {
   "cell_type": "code",
   "execution_count": 4,
   "metadata": {},
   "outputs": [
    {
     "name": "stdout",
     "output_type": "stream",
     "text": [
      "True\n",
      "False\n"
     ]
    }
   ],
   "source": [
    "print(13 in temporal_range)\n",
    "print(9 in temporal_range)"
   ]
  },
  {
   "cell_type": "code",
   "execution_count": null,
   "metadata": {},
   "outputs": [],
   "source": [
    "print(len(temporal_range))"
   ]
  },
  {
   "cell_type": "markdown",
   "metadata": {},
   "source": [
    "The length is 11 since the temporal range is inclusive of the end index.\n",
    "\n",
    "### Iteration\n",
    "Next we'll show how you can iterate over the temporal range: "
   ]
  },
  {
   "cell_type": "code",
   "execution_count": 18,
   "metadata": {
    "scrolled": true
   },
   "outputs": [
    {
     "name": "stdout",
     "output_type": "stream",
     "text": [
      "[10, 11, 12, 13, 14, 15, 16, 17, 18, 19, 20]\n"
     ]
    }
   ],
   "source": [
    "print([index for index in temporal_range])"
   ]
  },
  {
   "cell_type": "code",
   "execution_count": null,
   "metadata": {},
   "outputs": [],
   "source": []
  },
  {
   "cell_type": "markdown",
   "metadata": {},
   "source": [
    "## Bounding Box"
   ]
  },
  {
   "cell_type": "code",
   "execution_count": 14,
   "metadata": {},
   "outputs": [],
   "source": [
    "from frater.core import BoundingBox\n",
    "\n",
    "x, y, w, h = 1214.601, 294.827, 93.323, 252.291\n",
    "confidence = 0.5\n",
    "frame_index = 30\n",
    "bounding_box = BoundingBox(x, y, w, h, confidence, frame_index)"
   ]
  },
  {
   "cell_type": "code",
   "execution_count": 15,
   "metadata": {},
   "outputs": [
    {
     "name": "stdout",
     "output_type": "stream",
     "text": [
      "Bounding Box\n",
      "x0: 1214.601 y0: 294.827\n",
      "x1: 1307.924 y1: 547.118\n",
      "width: 93.323 height: 252.291\n",
      "frame index: 30 confidence: 0.500\n",
      "\n",
      "Other Bounding Box\n",
      "x0: 1214.601 y0: 294.827\n",
      "x1: 1317.924 y1: 557.118\n",
      "width: 103.323 height: 262.291\n",
      "frame index: 30 confidence: 0.500\n",
      "\n",
      "Union\n",
      "x0: 1214.601 y0: 294.827\n",
      "x1: 1317.924 y1: 557.118\n",
      "width: 103.323 height: 262.291\n",
      "frame index: 30 confidence: 0.500\n",
      "\n",
      "Intersection\n",
      "x0: 1214.601 y0: 294.827\n",
      "x1: 1307.924 y1: 547.118\n",
      "width: 93.323 height: 252.291\n",
      "frame index: 30 confidence: 0.500\n",
      "\n"
     ]
    }
   ],
   "source": [
    "print('Bounding Box')\n",
    "print(bounding_box.summary())\n",
    "\n",
    "other_bounding_box = BoundingBox(x, y, w + 10, h + 10, confidence, frame_index)\n",
    "print('Other Bounding Box')\n",
    "print(other_bounding_box.summary())\n",
    "print('Union')\n",
    "print(bounding_box.union(other_bounding_box).summary())\n",
    "\n",
    "print('Intersection')\n",
    "print(bounding_box.intersect(other_bounding_box).summary())"
   ]
  },
  {
   "cell_type": "markdown",
   "metadata": {},
   "source": [
    "### Bounding Box functions"
   ]
  },
  {
   "cell_type": "code",
   "execution_count": 22,
   "metadata": {},
   "outputs": [
    {
     "name": "stdout",
     "output_type": "stream",
     "text": [
      "Spatial IOU: 0.869\n",
      "\n",
      "Original Bounding Box:\n",
      " x0: 1214.601 y0: 294.827\n",
      "x1: 1307.924 y1: 547.118\n",
      "width: 93.323 height: 252.291\n",
      "frame index: 30 confidence: 0.500\n",
      "\n",
      "Scaled Bounding Box:\n",
      " x0: 1195.936 y0: 244.369\n",
      "x1: 1326.589 y1: 597.576\n",
      "width: 130.652 height: 353.207\n",
      "frame index: 30 confidence: 0.500\n",
      "\n"
     ]
    }
   ],
   "source": [
    "from frater.core.bounding_box import compute_spatial_iou, scale_bounding_box\n",
    "print(f'Spatial IOU: {compute_spatial_iou(bounding_box, other_bounding_box):.3f}')\n",
    "print()\n",
    "print(f'Original Bounding Box:\\n {bounding_box.summary()}\\nScaled Bounding Box:\\n {scale_bounding_box(bounding_box, 1.4).summary()}')"
   ]
  },
  {
   "cell_type": "markdown",
   "metadata": {},
   "source": [
    "## Video"
   ]
  },
  {
   "cell_type": "markdown",
   "metadata": {},
   "source": [
    "## Frame"
   ]
  },
  {
   "cell_type": "markdown",
   "metadata": {},
   "source": [
    "## Trajectory"
   ]
  },
  {
   "cell_type": "markdown",
   "metadata": {},
   "source": [
    "## Object Detection"
   ]
  },
  {
   "cell_type": "markdown",
   "metadata": {},
   "source": [
    "## Object"
   ]
  },
  {
   "cell_type": "markdown",
   "metadata": {},
   "source": [
    "## Activity Proposal"
   ]
  },
  {
   "cell_type": "markdown",
   "metadata": {},
   "source": [
    "## Activity\n",
    "`Activity` is a high level class representing an activity instance in a video. It contains the activity type, the trajectory of the activity, the objects involved in the activity, and other relevant data."
   ]
  },
  {
   "cell_type": "code",
   "execution_count": 10,
   "metadata": {
    "scrolled": false
   },
   "outputs": [
    {
     "name": "stdout",
     "output_type": "stream",
     "text": [
      "activity id: bf020dd1-5d96-4c24-b733-73cf048d7366\n",
      "activity type: person_enters_through_structure\n",
      "proposal id: 95037d05-433f-43de-8c18-0e57db20766b\n",
      "confidence: 0.728\n",
      "temporal range: start: 2663, end: 2839\n",
      "trajectory:\n",
      "start: \n",
      "x0: 1214.601 y0: 294.827\n",
      "x1: 1307.924 y1: 547.118\n",
      "width: 93.32374608821601 height: 252.29085408935765\n",
      "frame index: 2663 confidence: 0.000\n",
      "\n",
      "middle: \n",
      "x0: 921.367 y0: 290.447\n",
      "x1: 1026.981 y1: 566.759\n",
      "width: 105.61431279553938 height: 276.3118972927215\n",
      "frame index: 2751 confidence: 0.995\n",
      "\n",
      "end: \n",
      "x0: 729.910 y0: 317.736\n",
      "x1: 840.186 y1: 606.244\n",
      "width: 110.27603758211944 height: 288.5080664135685\n",
      "frame index: 2839 confidence: 0.000\n",
      "\n",
      "\n",
      "objects:\n",
      "object id: eafa0f13-0246-4a26-888b-4a512d4629cb\n",
      "object type: Person\n",
      "trajectory:\n",
      "start: \n",
      "x0: 1214.601 y0: 294.827\n",
      "x1: 1307.924 y1: 547.118\n",
      "width: 93.32374608821601 height: 252.29085408935765\n",
      "frame index: 2663 confidence: 0.000\n",
      "\n",
      "middle: \n",
      "x0: 921.367 y0: 290.447\n",
      "x1: 1026.981 y1: 566.759\n",
      "width: 105.61431279553938 height: 276.3118972927215\n",
      "frame index: 2751 confidence: 0.995\n",
      "\n",
      "end: \n",
      "x0: 729.910 y0: 317.736\n",
      "x1: 840.186 y1: 606.244\n",
      "width: 110.27603758211944 height: 288.5080664135685\n",
      "frame index: 2839 confidence: 0.000\n",
      "\n",
      "\n",
      "source video: 2018-03-07.16-50-00.16-55-00.admin.G329.avi\n",
      "experiment: cmuTestSet\n",
      "\n",
      "probabilities: ['0.009', '0.209', '0.000', '0.728', '0.048', '0.000', '0.000', '0.000', '0.000', '0.000', '0.000', '0.000', '0.000', '0.000', '0.001', '0.000', '0.000', '0.000', '0.000', '0.000', '0.000', '0.000', '0.000', '0.000', '0.000', '0.000', '0.006', '0.000', '0.000', '0.000', '0.000', '0.000', '0.000', '0.000', '0.000', '0.000', '0.000', '0.000']\n",
      "source video: 2018-03-07.16-50-00.16-55-00.admin.G329.avi\n",
      "experiment: cmuTestSet\n",
      "\n"
     ]
    }
   ],
   "source": [
    "import json\n",
    "from frater.core import Activity\n",
    "from frater.core.activity import json_to_activity\n",
    "\n",
    "\n",
    "with open('data/example_activity.json') as f:\n",
    "    activity = json_to_activity(json.load(f))\n",
    "\n",
    "\n",
    "print(activity.summary())"
   ]
  },
  {
   "cell_type": "code",
   "execution_count": 15,
   "metadata": {},
   "outputs": [],
   "source": [
    "from frater.io import frater_to_json\n",
    "import json\n",
    "with open('data/example_trajectory.json', 'w') as f:\n",
    "    json.dump(frater_to_json(activity.trajectory), f)"
   ]
  },
  {
   "cell_type": "code",
   "execution_count": null,
   "metadata": {},
   "outputs": [],
   "source": []
  }
 ],
 "metadata": {
  "kernelspec": {
   "display_name": "Python 3",
   "language": "python",
   "name": "python3"
  },
  "language_info": {
   "codemirror_mode": {
    "name": "ipython",
    "version": 3
   },
   "file_extension": ".py",
   "mimetype": "text/x-python",
   "name": "python",
   "nbconvert_exporter": "python",
   "pygments_lexer": "ipython3",
   "version": "3.7.3"
  }
 },
 "nbformat": 4,
 "nbformat_minor": 1
}
