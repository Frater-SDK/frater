{
 "cells": [
  {
   "cell_type": "markdown",
   "metadata": {
    "collapsed": true
   },
   "source": [
    "# Frater Core API\n",
    "> The `frater` core API contains data structures and functions acting on them for common data structures that used for a wide variety of computer vision tasks."
   ]
  },
  {
   "cell_type": "markdown",
   "metadata": {},
   "source": [
    "## Temporal Range\n",
    "`TemporalRange` is a primitive class that contains the start and end "
   ]
  },
  {
   "cell_type": "markdown",
   "metadata": {},
   "source": [
    "## Activities\n",
    "`Activity` is a high level class"
   ]
  },
  {
   "cell_type": "code",
   "execution_count": 4,
   "metadata": {},
   "outputs": [
    {
     "name": "stdout",
     "output_type": "stream",
     "text": [
      "activity id: bf020dd1-5d96-4c24-b733-73cf048d7366\n",
      "activity type: person_enters_through_structure\n",
      "proposal id: 95037d05-433f-43de-8c18-0e57db20766b\n",
      "confidence: 0.728\n",
      "temporal range: start: 2663, end: 2839\n",
      "trajectory: \n",
      "start: \n",
      "x0: 1214.601 y0: 294.827\n",
      "x1: 1307.924 y1: 547.118\n",
      "width: 93.32374608821601 height: 252.29085408935765\n",
      "frame index: 2663 confidence: 0.000\n",
      "\n",
      "middle: \n",
      "x0: 921.367 y0: 290.447\n",
      "x1: 1026.981 y1: 566.759\n",
      "width: 105.61431279553938 height: 276.3118972927215\n",
      "frame index: 2751 confidence: 0.995\n",
      "\n",
      "end: \n",
      "x0: 729.910 y0: 317.736\n",
      "x1: 840.186 y1: 606.244\n",
      "width: 110.27603758211944 height: 288.5080664135685\n",
      "frame index: 2839 confidence: 0.000\n",
      "\n",
      "\n",
      "objects:\n",
      "object id: eafa0f13-0246-4a26-888b-4a512d4629cb\n",
      "object type: Person\n",
      "trajectory: \n",
      "start: \n",
      "x0: 1214.601 y0: 294.827\n",
      "x1: 1307.924 y1: 547.118\n",
      "width: 93.32374608821601 height: 252.29085408935765\n",
      "frame index: 2663 confidence: 0.000\n",
      "\n",
      "middle: \n",
      "x0: 921.367 y0: 290.447\n",
      "x1: 1026.981 y1: 566.759\n",
      "width: 105.61431279553938 height: 276.3118972927215\n",
      "frame index: 2751 confidence: 0.995\n",
      "\n",
      "end: \n",
      "x0: 729.910 y0: 317.736\n",
      "x1: 840.186 y1: 606.244\n",
      "width: 110.27603758211944 height: 288.5080664135685\n",
      "frame index: 2839 confidence: 0.000\n",
      "\n",
      "\n",
      "source video: 2018-03-07.16-50-00.16-55-00.admin.G329.avi\n",
      "experiment: cmuTestSet\n",
      "\n",
      "probabilities: ['0.009', '0.209', '0.000', '0.728', '0.048', '0.000', '0.000', '0.000', '0.000', '0.000', '0.000', '0.000', '0.000', '0.000', '0.001', '0.000', '0.000', '0.000', '0.000', '0.000', '0.000', '0.000', '0.000', '0.000', '0.000', '0.000', '0.006', '0.000', '0.000', '0.000', '0.000', '0.000', '0.000', '0.000', '0.000', '0.000', '0.000', '0.000']\n",
      "source video: 2018-03-07.16-50-00.16-55-00.admin.G329.avi\n",
      "experiment: cmuTestSet\n",
      "\n"
     ]
    }
   ],
   "source": [
    "import json\n",
    "from frater.core import Activity\n",
    "from frater.core.activity import json_to_activity\n",
    "\n",
    "\n",
    "with open('data/example_activity.json') as f:\n",
    "    activity = json_to_activity(json.load(f))\n",
    "\n",
    "\n",
    "print(activity.summary)"
   ]
  },
  {
   "cell_type": "code",
   "execution_count": null,
   "metadata": {},
   "outputs": [],
   "source": []
  }
 ],
 "metadata": {
  "kernelspec": {
   "display_name": "Python 3",
   "language": "python",
   "name": "python3"
  },
  "language_info": {
   "codemirror_mode": {
    "name": "ipython",
    "version": 3
   },
   "file_extension": ".py",
   "mimetype": "text/x-python",
   "name": "python",
   "nbconvert_exporter": "python",
   "pygments_lexer": "ipython3",
   "version": "3.7.3"
  }
 },
 "nbformat": 4,
 "nbformat_minor": 1
}
