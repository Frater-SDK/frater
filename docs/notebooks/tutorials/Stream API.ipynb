{
 "cells": [
  {
   "cell_type": "markdown",
   "metadata": {},
   "source": [
    "# Stream API\n",
    "\n",
    "The Stream API is how components in a Frater system send and receive data. By using separate objects to handle Data I/O, this allows for modularity in systems by being able to swap similar components in and out that have the same input and output types.\n",
    "\n",
    "There are two fundamental stream types as you may have guessed: `InputStream` and `OutputStream`. These are abstract interfaces from which all other streams are derived. `InputStream` receives data from some source and `OutputStream` sends data to some destination. What these sources and destinations are is up to the developer, but Frater includes implementations of common sources and destinations to get started quickly."
   ]
  },
  {
   "cell_type": "markdown",
   "metadata": {},
   "source": [
    "## Custom Streams\n",
    "To get started, we'll demonstrate how to implement your own `InputStream` and `OutputStream` and how they might be used:"
   ]
  },
  {
   "cell_type": "code",
   "execution_count": null,
   "metadata": {},
   "outputs": [],
   "source": [
    "from frater.stream import InputStream, OutputStream"
   ]
  },
  {
   "cell_type": "markdown",
   "metadata": {},
   "source": [
    "These are the abstract interfaces for `InputStream` and `OutputStream`"
   ]
  },
  {
   "cell_type": "code",
   "execution_count": 19,
   "metadata": {},
   "outputs": [],
   "source": [
    "from typing import List\n",
    "\n",
    "class CustomInputStream(InputStream):\n",
    "    def __init__(self, data: List, stream_type=None):\n",
    "        super(CustomInputStream, self).__init__(stream_type)\n",
    "        self.data = data\n",
    "        \n",
    "    def __next__(self):\n",
    "        return next(self.__iter__())\n",
    "    \n",
    "    def __iter__(self):\n",
    "        for item in self.data:\n",
    "            yield item"
   ]
  },
  {
   "cell_type": "markdown",
   "metadata": {},
   "source": [
    "This is a custom input stream that takes in a list to use as inputs during initialization"
   ]
  },
  {
   "cell_type": "code",
   "execution_count": 20,
   "metadata": {},
   "outputs": [],
   "source": [
    "class CustomOutputStream(OutputStream):\n",
    "    def __init__(self, stream_type=None):\n",
    "        super(CustomOutputStream, self).__init__(stream_type)\n",
    "        \n",
    "    def send(self, item):\n",
    "        print('output:', item)"
   ]
  },
  {
   "cell_type": "markdown",
   "metadata": {},
   "source": [
    "This is a custom output stream that just prints outputs. The `__call__()` method for an `OutputStream` is implemented in the interface class to be the same as the `send()` method. So the following function calls are equivalent:\n",
    "> ```python\n",
    "> output_stream.send(data)\n",
    "> output_stream(data)\n",
    "> ```\n",
    "\n",
    "Now putting it all together:"
   ]
  },
  {
   "cell_type": "code",
   "execution_count": 21,
   "metadata": {},
   "outputs": [
    {
     "name": "stdout",
     "output_type": "stream",
     "text": [
      "input: 0\n",
      "output: 5\n",
      "input: 1\n",
      "output: 6\n",
      "input: 2\n",
      "output: 7\n",
      "input: 3\n",
      "output: 8\n",
      "input: 4\n",
      "output: 9\n",
      "input: 5\n",
      "output: 10\n",
      "input: 6\n",
      "output: 11\n",
      "input: 7\n",
      "output: 12\n",
      "input: 8\n",
      "output: 13\n",
      "input: 9\n",
      "output: 14\n"
     ]
    }
   ],
   "source": [
    "def do_something_to_input(item):\n",
    "    return item + 5\n",
    "\n",
    "input_stream = CustomInputStream(list(range(10)))\n",
    "output_stream = CustomOutputStream()\n",
    "for item in input_stream:\n",
    "    print('input:',item)\n",
    "    output = do_something_to_input(item)\n",
    "    output_stream(output)"
   ]
  },
  {
   "cell_type": "markdown",
   "metadata": {},
   "source": [
    "This is a trivial example, but it is easy to see how this could be extended for more complex use cases. For example, the `input_stream` could be sending frames from a video, the `output_stream` is expecting object detections to be sent to a database or another component, and the `do_something_to_input()` method is an object detector that takes in a frame or batch of frames and outputs object detections."
   ]
  },
  {
   "cell_type": "markdown",
   "metadata": {},
   "source": [
    "## Available Stream Implementations"
   ]
  },
  {
   "cell_type": "markdown",
   "metadata": {},
   "source": [
    "There is a set of available streams built into Frater that can be used out of the box, with more to be added in the future:\n",
    "- Kafka Streams\n",
    "    - `KafkaInputStream`, `KafkaOutputStream`\n",
    "- MongoDB Streams\n",
    "    - `MongoInputStream`, `MongoOutputStream`\n",
    "- JSON Streams\n",
    "    - `JSONInputStream`, `JSONOutputStream`"
   ]
  }
 ],
 "metadata": {
  "kernelspec": {
   "display_name": "Python 3",
   "language": "python",
   "name": "python3"
  },
  "language_info": {
   "codemirror_mode": {
    "name": "ipython",
    "version": 3
   },
   "file_extension": ".py",
   "mimetype": "text/x-python",
   "name": "python",
   "nbconvert_exporter": "python",
   "pygments_lexer": "ipython3",
   "version": "3.7.3"
  }
 },
 "nbformat": 4,
 "nbformat_minor": 2
}
